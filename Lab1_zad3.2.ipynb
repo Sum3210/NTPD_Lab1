{
 "cells": [
  {
   "cell_type": "code",
   "execution_count": 1,
   "id": "cf07053f-1750-4002-91dd-85a91e762a9a",
   "metadata": {},
   "outputs": [],
   "source": [
    "import numpy as np\n",
    "import joblib\n",
    "from sklearn.datasets import load_iris\n",
    "\n",
    "# Wczytanie modelu\n",
    "model = joblib.load('model_v1.joblib')"
   ]
  },
  {
   "cell_type": "code",
   "execution_count": 2,
   "id": "8be797c2-f51f-4673-8e18-f6ddfd27ce6a",
   "metadata": {},
   "outputs": [
    {
     "name": "stdout",
     "output_type": "stream",
     "text": [
      "Przykładowy rekord: [[5.1 3.5 1.4 0.2]]\n",
      "Prawdziwa etykieta: setosa\n",
      "Przewidziana etykieta: setosa\n",
      "Predykcja poprawna!\n"
     ]
    }
   ],
   "source": [
    "# Przygotowanie przykładowego rekordu (np. pierwszy rekord z danych iris)\n",
    "iris = load_iris()\n",
    "example_record = iris.data[0].reshape(1, -1)  # Pierwszy rekord jako 2D array\n",
    "true_label = iris.target[0]  # Prawdziwa etykieta dla tego rekordu\n",
    "\n",
    "# Przewidywanie\n",
    "prediction = model.predict(example_record)\n",
    "predicted_class = iris.target_names[prediction[0]]\n",
    "\n",
    "# Wyświetlenie wyników\n",
    "print(f\"Przykładowy rekord: {example_record}\")\n",
    "print(f\"Prawdziwa etykieta: {iris.target_names[true_label]}\")\n",
    "print(f\"Przewidziana etykieta: {predicted_class}\")\n",
    "\n",
    "# Sprawdzenie poprawności\n",
    "if prediction[0] == true_label:\n",
    "    print(\"Predykcja poprawna!\")\n",
    "else:\n",
    "    print(\"Predykcja niepoprawna!\")"
   ]
  },
  {
   "cell_type": "code",
   "execution_count": null,
   "id": "03970bb2-5cdb-43ec-a934-d7f06191dbaa",
   "metadata": {},
   "outputs": [],
   "source": []
  }
 ],
 "metadata": {
  "kernelspec": {
   "display_name": "Python 3 (ipykernel)",
   "language": "python",
   "name": "python3"
  },
  "language_info": {
   "codemirror_mode": {
    "name": "ipython",
    "version": 3
   },
   "file_extension": ".py",
   "mimetype": "text/x-python",
   "name": "python",
   "nbconvert_exporter": "python",
   "pygments_lexer": "ipython3",
   "version": "3.10.12"
  }
 },
 "nbformat": 4,
 "nbformat_minor": 5
}
