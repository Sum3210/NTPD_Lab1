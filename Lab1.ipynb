{
 "cells": [
  {
   "cell_type": "markdown",
   "id": "c5d11d5f-dd87-4e69-8fb9-fbac37489bd1",
   "metadata": {},
   "source": [
    "# Zadanie 1: Przygotowanie środowiska i danych"
   ]
  },
  {
   "cell_type": "code",
   "execution_count": 24,
   "id": "083ae6ae-752d-488f-a24e-a8ecf303789b",
   "metadata": {},
   "outputs": [],
   "source": [
    "import numpy as np\n",
    "import pandas as pd\n",
    "from sklearn.datasets import load_iris\n",
    "from sklearn.datasets import load_iris\n",
    "from sklearn.model_selection import train_test_split\n",
    "from sklearn.linear_model import LogisticRegression\n",
    "from sklearn.ensemble import RandomForestClassifier\n",
    "from sklearn.metrics import accuracy_score, precision_score, recall_score, classification_report\n",
    "import joblib"
   ]
  },
  {
   "cell_type": "code",
   "execution_count": 25,
   "id": "3e7279c3-72bb-465d-a085-15886adfcd1b",
   "metadata": {},
   "outputs": [],
   "source": [
    "iris = load_iris()\n",
    "data = pd.DataFrame(data=iris.data, columns=iris.feature_names)"
   ]
  },
  {
   "cell_type": "code",
   "execution_count": 26,
   "id": "0b2068e6-7635-4ab5-93d0-8145988f85db",
   "metadata": {},
   "outputs": [
    {
     "name": "stdout",
     "output_type": "stream",
     "text": [
      "Pierwsze 5 wierszy danych:\n",
      "   sepal length (cm)  sepal width (cm)  petal length (cm)  petal width (cm)\n",
      "0                5.1               3.5                1.4               0.2\n",
      "1                4.9               3.0                1.4               0.2\n",
      "2                4.7               3.2                1.3               0.2\n",
      "3                4.6               3.1                1.5               0.2\n",
      "4                5.0               3.6                1.4               0.2\n",
      "\n",
      "Rozmiar danych (wiersze, kolumny):\n",
      "(150, 4)\n",
      "\n",
      "Informacje o typach kolumn:\n",
      "<class 'pandas.core.frame.DataFrame'>\n",
      "RangeIndex: 150 entries, 0 to 149\n",
      "Data columns (total 4 columns):\n",
      " #   Column             Non-Null Count  Dtype  \n",
      "---  ------             --------------  -----  \n",
      " 0   sepal length (cm)  150 non-null    float64\n",
      " 1   sepal width (cm)   150 non-null    float64\n",
      " 2   petal length (cm)  150 non-null    float64\n",
      " 3   petal width (cm)   150 non-null    float64\n",
      "dtypes: float64(4)\n",
      "memory usage: 4.8 KB\n",
      "None\n"
     ]
    }
   ],
   "source": [
    "print(\"Pierwsze 5 wierszy danych:\")\n",
    "print(data.head())\n",
    "\n",
    "print(\"\\nRozmiar danych (wiersze, kolumny):\")\n",
    "print(data.shape)\n",
    "\n",
    "print(\"\\nInformacje o typach kolumn:\")\n",
    "print(data.info())"
   ]
  },
  {
   "cell_type": "markdown",
   "id": "96e2890f-3708-43a4-9345-42dda13ff4d1",
   "metadata": {},
   "source": [
    "# Zadanie 2: Stworzenie prostego modelu ML (scikit-learn lub TensorFlow)"
   ]
  },
  {
   "cell_type": "code",
   "execution_count": 27,
   "id": "125b04fa-5599-4385-933e-d1c1302c84e7",
   "metadata": {},
   "outputs": [
    {
     "name": "stdout",
     "output_type": "stream",
     "text": [
      "Metryki modelu RandomForest:\n",
      "Accuracy: 1.00\n",
      "Precision: 1.00\n",
      "Recall: 1.00\n"
     ]
    }
   ],
   "source": [
    "X = iris.data  # Cechy \n",
    "y = iris.target  # Etykiety\n",
    "\n",
    "# 3. Podział na zbiór treningowy i testowy (80%/20%)\n",
    "X_train, X_test, y_train, y_test = train_test_split(\n",
    "    X, y, test_size=0.2, random_state=42\n",
    ")\n",
    "\n",
    "# 4. Utworzenie i wytrenowanie modelu\n",
    "model = RandomForestClassifier(n_estimators=100, random_state=42)\n",
    "model.fit(X_train, y_train)\n",
    "\n",
    "# 5. Przewidywanie na zbiorze testowym\n",
    "y_pred = model.predict(X_test)\n",
    "# 6. Wyświetlenie podstawowych metryk\n",
    "accuracy = accuracy_score(y_test, y_pred)\n",
    "precision = precision_score(y_test, y_pred, average='macro')\n",
    "recall = recall_score(y_test, y_pred, average='macro')\n",
    "\n",
    "print(\"Metryki modelu RandomForest:\")\n",
    "print(f\"Accuracy: {accuracy:.2f}\")\n",
    "print(f\"Precision: {precision:.2f}\")\n",
    "print(f\"Recall: {recall:.2f}\")"
   ]
  },
  {
   "cell_type": "markdown",
   "id": "8ecefc92-01fc-42f2-8f93-d9302069e53b",
   "metadata": {},
   "source": [
    "# Zadanie 3: Zapisanie i ładowanie modelu (pickle, joblib)"
   ]
  },
  {
   "cell_type": "code",
   "execution_count": 28,
   "id": "fc9f7b82-2ae7-4fd3-ac1b-1014043d2e81",
   "metadata": {},
   "outputs": [
    {
     "data": {
      "text/plain": [
       "['model.joblib']"
      ]
     },
     "execution_count": 28,
     "metadata": {},
     "output_type": "execute_result"
    }
   ],
   "source": [
    "joblib.dump(model, 'model_v1.joblib')"
   ]
  },
  {
   "cell_type": "markdown",
   "id": "33dbe563-55d8-4b66-912c-ae4dda807b3e",
   "metadata": {},
   "source": [
    "# Zadanie 4: Wersjonowanie modelu w praktyce"
   ]
  },
  {
   "cell_type": "markdown",
   "id": "5b729989-f063-44ff-a7db-14d974e70e96",
   "metadata": {},
   "source": [
    "# Zadanie 5: Różnice między środowiskiem deweloperskim a produkcyjnym"
   ]
  },
  {
   "cell_type": "code",
   "execution_count": null,
   "id": "c3e71393-3055-463d-a269-be5f23cc54b5",
   "metadata": {},
   "outputs": [],
   "source": []
  }
 ],
 "metadata": {
  "kernelspec": {
   "display_name": "Python 3 (ipykernel)",
   "language": "python",
   "name": "python3"
  },
  "language_info": {
   "codemirror_mode": {
    "name": "ipython",
    "version": 3
   },
   "file_extension": ".py",
   "mimetype": "text/x-python",
   "name": "python",
   "nbconvert_exporter": "python",
   "pygments_lexer": "ipython3",
   "version": "3.10.12"
  }
 },
 "nbformat": 4,
 "nbformat_minor": 5
}
